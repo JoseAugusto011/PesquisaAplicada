{
 "cells": [
  {
   "cell_type": "code",
   "execution_count": 3,
   "metadata": {},
   "outputs": [],
   "source": [
    "import pandas as pd\n",
    "import numpy as np\n",
    "import os\n"
   ]
  },
  {
   "cell_type": "code",
   "execution_count": 13,
   "metadata": {},
   "outputs": [
    {
     "name": "stdout",
     "output_type": "stream",
     "text": [
      "anuario-2022-dados_abertos-tabela2-14 (1).csv\n",
      "anuario-2022-dados_abertos-tabela2-14.csv\n",
      "anuario-2022-dados_abertos-tabela2-17 (1).csv\n",
      "anuario-2022-dados_abertos-tabela2-17.csv\n",
      "anuario-2022-dados_abertos-tabela2-21.csv\n",
      "anuario-2022-dados_abertos-tabela2-27.csv\n",
      "anuario-2022-dados_abertos-tabela2-33.csv\n",
      "anuario-2022-dados_abertos-tabela2-35.csv\n",
      "anuario-2022-dados_abertos-tabela2-36.csv\n",
      "anuario-2022-dados_abertos-tabela2-43.csv\n",
      "anuario-2022-dados_abertos-tabela3-1.csv\n",
      "anuario-2022-dados_abertos-tabela3-22.csv\n",
      "anuario-2022-dados_abertos-tabela3-23.csv\n",
      "anuario-2022-dados_abertos-tabela3-30.csv\n",
      "anuario-2022-dados_abertos-tabela3-31.csv\n",
      "anuario-2022-dados_abertos-tabela3-32.csv\n",
      "anuario-2022-dados_abertos-tabela3-7.csv\n",
      "Anuario.ipynb\n",
      "consumo-proprio.csv\n",
      "distribuidoras-consumidores-livres.csv\n",
      "gn-2021.csv\n",
      "gn-2022.csv\n",
      "gn-2023.csv\n",
      "gn-disponivel.csv\n",
      "importacao-gas-natural-2000-2023.csv\n",
      "importacoes-exportacoes-petroleo-2000-2023.csv\n",
      "inventario-dados.xlsx\n",
      "producao-gas-natural.csv\n",
      "reartigo.zip\n",
      "vendas-entre-produtores.csv\n"
     ]
    }
   ],
   "source": [
    "#Liste todos os arquivos do diretório\n",
    "\n",
    "for dirname, _, filenames in os.walk(r\"C:\\Users\\Usuário\\Downloads\\UFPB\\2023.1\\PACD\\gasodutos\\PesquisaAplicada\\Datasets\"):\n",
    "    for filename in filenames:\n",
    "        print(os.path.join(filename))"
   ]
  },
  {
   "cell_type": "code",
   "execution_count": 6,
   "metadata": {},
   "outputs": [],
   "source": [
    "t214 = pd.read_csv(\"anuario-2022-dados_abertos-tabela2-14.csv\", sep=\";\")\n",
    "t217 = pd.read_csv(\"anuario-2022-dados_abertos-tabela2-17.csv\", sep=\";\")\n",
    "t221 = pd.read_csv(\"anuario-2022-dados_abertos-tabela2-21.csv\", sep=\";\")\n",
    "t227 = pd.read_csv(\"anuario-2022-dados_abertos-tabela2-27.csv\", sep=\";\")\n",
    "t233 = pd.read_csv(\"anuario-2022-dados_abertos-tabela2-33.csv\", sep=\";\")\n"
   ]
  },
  {
   "cell_type": "code",
   "execution_count": 7,
   "metadata": {},
   "outputs": [
    {
     "data": {
      "text/html": [
       "<div>\n",
       "<style scoped>\n",
       "    .dataframe tbody tr th:only-of-type {\n",
       "        vertical-align: middle;\n",
       "    }\n",
       "\n",
       "    .dataframe tbody tr th {\n",
       "        vertical-align: top;\n",
       "    }\n",
       "\n",
       "    .dataframe thead th {\n",
       "        text-align: right;\n",
       "    }\n",
       "</style>\n",
       "<table border=\"1\" class=\"dataframe\">\n",
       "  <thead>\n",
       "    <tr style=\"text-align: right;\">\n",
       "      <th></th>\n",
       "      <th>UNIDADES DA FEDERAÇÃO</th>\n",
       "      <th>TIPO</th>\n",
       "      <th>ANO</th>\n",
       "      <th>PRODUÇÃO DE GÁS NATURAL</th>\n",
       "    </tr>\n",
       "  </thead>\n",
       "  <tbody>\n",
       "    <tr>\n",
       "      <th>0</th>\n",
       "      <td>Amazonas</td>\n",
       "      <td>Associado</td>\n",
       "      <td>2012</td>\n",
       "      <td>4107,324899</td>\n",
       "    </tr>\n",
       "    <tr>\n",
       "      <th>1</th>\n",
       "      <td>Amazonas</td>\n",
       "      <td>Associado</td>\n",
       "      <td>2013</td>\n",
       "      <td>4051,784</td>\n",
       "    </tr>\n",
       "    <tr>\n",
       "      <th>2</th>\n",
       "      <td>Amazonas</td>\n",
       "      <td>Associado</td>\n",
       "      <td>2014</td>\n",
       "      <td>4335,842616</td>\n",
       "    </tr>\n",
       "    <tr>\n",
       "      <th>3</th>\n",
       "      <td>Amazonas</td>\n",
       "      <td>Associado</td>\n",
       "      <td>2015</td>\n",
       "      <td>4445,573747</td>\n",
       "    </tr>\n",
       "    <tr>\n",
       "      <th>4</th>\n",
       "      <td>Amazonas</td>\n",
       "      <td>Associado</td>\n",
       "      <td>2016</td>\n",
       "      <td>4390,751012</td>\n",
       "    </tr>\n",
       "    <tr>\n",
       "      <th>...</th>\n",
       "      <td>...</td>\n",
       "      <td>...</td>\n",
       "      <td>...</td>\n",
       "      <td>...</td>\n",
       "    </tr>\n",
       "    <tr>\n",
       "      <th>185</th>\n",
       "      <td>São Paulo</td>\n",
       "      <td>Não associado</td>\n",
       "      <td>2017</td>\n",
       "      <td>2978,25811</td>\n",
       "    </tr>\n",
       "    <tr>\n",
       "      <th>186</th>\n",
       "      <td>São Paulo</td>\n",
       "      <td>Não associado</td>\n",
       "      <td>2018</td>\n",
       "      <td>2264,234629</td>\n",
       "    </tr>\n",
       "    <tr>\n",
       "      <th>187</th>\n",
       "      <td>São Paulo</td>\n",
       "      <td>Não associado</td>\n",
       "      <td>2019</td>\n",
       "      <td>2540</td>\n",
       "    </tr>\n",
       "    <tr>\n",
       "      <th>188</th>\n",
       "      <td>São Paulo</td>\n",
       "      <td>Não associado</td>\n",
       "      <td>2020</td>\n",
       "      <td>2134,139977</td>\n",
       "    </tr>\n",
       "    <tr>\n",
       "      <th>189</th>\n",
       "      <td>São Paulo</td>\n",
       "      <td>Não associado</td>\n",
       "      <td>2021</td>\n",
       "      <td>1656,613954</td>\n",
       "    </tr>\n",
       "  </tbody>\n",
       "</table>\n",
       "<p>190 rows × 4 columns</p>\n",
       "</div>"
      ],
      "text/plain": [
       "    UNIDADES DA FEDERAÇÃO           TIPO   ANO PRODUÇÃO DE GÁS NATURAL\n",
       "0                Amazonas      Associado  2012             4107,324899\n",
       "1                Amazonas      Associado  2013                4051,784\n",
       "2                Amazonas      Associado  2014             4335,842616\n",
       "3                Amazonas      Associado  2015             4445,573747\n",
       "4                Amazonas      Associado  2016             4390,751012\n",
       "..                    ...            ...   ...                     ...\n",
       "185             São Paulo  Não associado  2017              2978,25811\n",
       "186             São Paulo  Não associado  2018             2264,234629\n",
       "187             São Paulo  Não associado  2019                    2540\n",
       "188             São Paulo  Não associado  2020             2134,139977\n",
       "189             São Paulo  Não associado  2021             1656,613954\n",
       "\n",
       "[190 rows x 4 columns]"
      ]
     },
     "execution_count": 7,
     "metadata": {},
     "output_type": "execute_result"
    }
   ],
   "source": [
    "t214"
   ]
  }
 ],
 "metadata": {
  "kernelspec": {
   "display_name": "Python 3",
   "language": "python",
   "name": "python3"
  },
  "language_info": {
   "codemirror_mode": {
    "name": "ipython",
    "version": 3
   },
   "file_extension": ".py",
   "mimetype": "text/x-python",
   "name": "python",
   "nbconvert_exporter": "python",
   "pygments_lexer": "ipython3",
   "version": "3.9.7"
  },
  "orig_nbformat": 4,
  "vscode": {
   "interpreter": {
    "hash": "c7eff589202d1b081309a21c1fcab32e7bd6b92ee77a4b4c9e08aff7652052eb"
   }
  }
 },
 "nbformat": 4,
 "nbformat_minor": 2
}
