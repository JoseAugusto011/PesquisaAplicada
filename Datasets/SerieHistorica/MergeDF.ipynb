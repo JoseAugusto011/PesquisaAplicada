{
 "cells": [
  {
   "cell_type": "code",
   "execution_count": 1,
   "metadata": {},
   "outputs": [],
   "source": [
    "import os\n",
    "import pandas as pd"
   ]
  },
  {
   "cell_type": "code",
   "execution_count": 4,
   "metadata": {},
   "outputs": [],
   "source": [
    "def GetDf():\n",
    "\n",
    "    #Liste todos os arquivos do diretório e retorna dicionário com os dataframes\n",
    "\n",
    "    names = []\n",
    "\n",
    "    for dirname, _, filenames in os.walk(r\"C:\\Users\\Usuário\\Downloads\\UFPB\\2023.1\\PACD\\gasodutos\\PesquisaAplicada\\Datasets\\SerieHistorica\"):\n",
    "        for filename in filenames:\n",
    "            if filename.lower().endswith(\".csv\"):\n",
    "                names.append(os.path.join(filename))\n",
    "                \n",
    "                \n",
    "    df_dict = {}\n",
    "\n",
    "    count = 0\n",
    "    \n",
    "    for file_path in names:\n",
    "        \n",
    "        df = pd.read_csv(file_path, sep=\";\",low_memory=False)    \n",
    "        #df_dict[os.path.basename(file_path)] = df\n",
    "        df_dict[count] = df\n",
    "        count += 1\n",
    "\n",
    "\n",
    "    return df_dict\n"
   ]
  },
  {
   "cell_type": "code",
   "execution_count": 6,
   "metadata": {},
   "outputs": [],
   "source": [
    "l = GetDf()\n"
   ]
  },
  {
   "cell_type": "code",
   "execution_count": 10,
   "metadata": {},
   "outputs": [],
   "source": [
    "#2004 - 2019 (Antes da Pandemia) l[0] - l[29]\n",
    "#2020 - 2021 (Durante a Pandemia) l[30] - l[33]\n",
    "#2022 - 2023 (Pós Pandemia) l[34] - l[37]"
   ]
  }
 ],
 "metadata": {
  "kernelspec": {
   "display_name": "Python 3",
   "language": "python",
   "name": "python3"
  },
  "language_info": {
   "codemirror_mode": {
    "name": "ipython",
    "version": 3
   },
   "file_extension": ".py",
   "mimetype": "text/x-python",
   "name": "python",
   "nbconvert_exporter": "python",
   "pygments_lexer": "ipython3",
   "version": "3.9.7"
  },
  "orig_nbformat": 4,
  "vscode": {
   "interpreter": {
    "hash": "c7eff589202d1b081309a21c1fcab32e7bd6b92ee77a4b4c9e08aff7652052eb"
   }
  }
 },
 "nbformat": 4,
 "nbformat_minor": 2
}
